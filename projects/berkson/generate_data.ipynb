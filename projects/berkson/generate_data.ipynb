{
 "cells": [
  {
   "cell_type": "code",
   "execution_count": 1,
   "metadata": {},
   "outputs": [
    {
     "name": "stdout",
     "output_type": "stream",
     "text": [
      "D:\\animlib\n"
     ]
    },
    {
     "data": {
      "text/plain": [
       "'D:\\\\animlib'"
      ]
     },
     "execution_count": 1,
     "metadata": {},
     "output_type": "execute_result"
    }
   ],
   "source": [
    "%cd ../../\n",
    "%pwd"
   ]
  },
  {
   "cell_type": "code",
   "execution_count": 2,
   "metadata": {},
   "outputs": [],
   "source": [
    "import numpy as np\n",
    "import pandas as pd\n",
    "import matplotlib.pyplot as plt\n",
    "from src.dataprep.WriteDfToJsonVar import WriteDfToJsonVar\n",
    "from src.dataprep.WriteDfToJsonVar import WriteScatter\n",
    "target_total = 13"
   ]
  },
  {
   "cell_type": "code",
   "execution_count": 3,
   "metadata": {},
   "outputs": [
    {
     "name": "stderr",
     "output_type": "stream",
     "text": [
      "D:\\condaenvs\\dev\\lib\\site-packages\\numpy\\core\\fromnumeric.py:2495: FutureWarning: Method .ptp is deprecated and will be removed in a future version. Use numpy.ptp instead.\n",
      "  return ptp(axis=axis, out=out, **kwargs)\n"
     ]
    },
    {
     "name": "stdout",
     "output_type": "stream",
     "text": [
      "const             11.745040\n",
      "attractiveness    -0.527986\n",
      "dtype: float64\n",
      "const             5.909541\n",
      "attractiveness   -0.035543\n",
      "dtype: float64\n"
     ]
    },
    {
     "data": {
      "image/png": "[encoded data removed]",
      "text/plain": [
       "<Figure size 432x288 with 1 Axes>"
      ]
     },
     "metadata": {
      "needs_background": "light"
     },
     "output_type": "display_data"
    }
   ],
   "source": [
    "###########################\n",
    "# berkson1\n",
    "###########################\n",
    "\n",
    "# Full scatter data\n",
    "np.random.seed(1337)\n",
    "data = pd.DataFrame(np.random.uniform(low=1, high=10, size=(1000,2)),columns=['attractiveness','niceness'])\n",
    "data['total_score'] = data['attractiveness'] + data['niceness']\n",
    "\n",
    "# Triangle area with y => -x + target_total\n",
    "ys = []\n",
    "xs = []\n",
    "for x  in range(1,11):\n",
    "    y = -x + target_total\n",
    "    if y <= 10:\n",
    "        ys.append(y)\n",
    "        xs.append(x)        \n",
    "df = pd.DataFrame({'x':xs, 'y':ys})\n",
    "df = df.append(pd.DataFrame({'x':[10], 'y':[10]}), ignore_index=True)\n",
    "df = df.append(pd.DataFrame({'x':[xs[0]], 'y':[10]}), ignore_index=True)\n",
    "df  = df.iloc[::-1]\n",
    "df.index = df['x']; del df['x']\n",
    "\n",
    "# Fit regression lines for sub-population inside the triangle\n",
    "import statsmodels.api as sm\n",
    "Y = data.loc[ data['total_score']>=target_total, 'niceness']\n",
    "X = data.loc[ data['total_score']>=target_total, 'attractiveness']\n",
    "X = sm.add_constant(X)\n",
    "model = sm.OLS(Y,X)\n",
    "results_sub = model.fit()\n",
    "print(results_sub.params)\n",
    "\n",
    "# Regression line for sub-population\n",
    "regline_sub = pd.DataFrame({'y':list(results_sub.params[0] + range(df.index[0],11) * results_sub.params[1])}, index=range(df.index[0],11))\n",
    "\n",
    "# Fit regression lines for full population\n",
    "import statsmodels.api as sm\n",
    "Y = data['niceness']\n",
    "X = data['attractiveness']\n",
    "X = sm.add_constant(X)\n",
    "model = sm.OLS(Y,X)\n",
    "results_full = model.fit()\n",
    "print(results_full.params)\n",
    "\n",
    "# Regression line for full population\n",
    "regline_full = pd.DataFrame({'y':list(results_full.params[0] + range(0,11) * results_full.params[1])}, index=range(0,11))\n",
    "\n",
    "# Plot\n",
    "fig = plt.figure(figsize=(6,4))\n",
    "ax = fig.add_subplot(111)\n",
    "_ = data.plot.scatter(ax=ax, x='attractiveness', y='niceness', s=2, color='steelblue')\n",
    "_ = df.plot(ax=ax, c=\"orange\", legend=False)\n",
    "_ = regline_sub.plot(ax=ax, c=\"red\", legend=False)\n",
    "_ = regline_full.plot(ax=ax, c=\"green\", legend=False)\n",
    "ax.set_xlim(0,11)\n",
    "ax.set_ylim(0,11)\n",
    "fig.tight_layout()"
   ]
  },
  {
   "cell_type": "code",
   "execution_count": 4,
   "metadata": {},
   "outputs": [
    {
     "data": {
      "image/png": "[encoded data removed]",
      "text/plain": [
       "<Figure size 432x288 with 1 Axes>"
      ]
     },
     "metadata": {
      "needs_background": "light"
     },
     "output_type": "display_data"
    }
   ],
   "source": [
    "###########################\n",
    "# berkson2\n",
    "###########################\n",
    "\n",
    "# Full scatter data\n",
    "np.random.seed(1337)\n",
    "df_2 = pd.DataFrame(data={'y':[1,10,10,1,1]}, index=[1,1,10,10,1])\n",
    "\n",
    "# Plot\n",
    "fig = plt.figure(figsize=(6,4))\n",
    "ax = fig.add_subplot(111)\n",
    "_ = df_2.plot(ax=ax, c=\"orange\", legend=False)\n",
    "ax.set_xlim(0,11)\n",
    "ax.set_ylim(0,11)\n",
    "fig.tight_layout()"
   ]
  },
  {
   "cell_type": "code",
   "execution_count": null,
   "metadata": {},
   "outputs": [],
   "source": []
  },
  {
   "cell_type": "code",
   "execution_count": null,
   "metadata": {},
   "outputs": [],
   "source": []
  },
  {
   "cell_type": "code",
   "execution_count": null,
   "metadata": {},
   "outputs": [],
   "source": []
  },
  {
   "cell_type": "code",
   "execution_count": null,
   "metadata": {},
   "outputs": [],
   "source": []
  },
  {
   "cell_type": "code",
   "execution_count": null,
   "metadata": {},
   "outputs": [],
   "source": []
  },
  {
   "cell_type": "code",
   "execution_count": null,
   "metadata": {},
   "outputs": [],
   "source": []
  },
  {
   "cell_type": "code",
   "execution_count": 5,
   "metadata": {},
   "outputs": [],
   "source": [
    "# Write all files\n",
    "data_above = data.loc[data['total_score']>=target_total, ['attractiveness','niceness']].copy()\n",
    "data_above['color'] = \"#916FBB\"\n",
    "data_above['r'] = 3\n",
    "WriteScatter(\n",
    "    data_above,\n",
    "    path = 'projects/berkson/scatterAbove.json',    \n",
    "    x_col = \"attractiveness\",\n",
    "    y_col = \"niceness\",\n",
    "    varname = \"scatterAbove\"\n",
    ")\n",
    "\n",
    "data_below = data.loc[data['total_score']<target_total, ['attractiveness','niceness']].copy()\n",
    "data_below['color'] = \"#916FBB\"\n",
    "data_below['r'] = 3\n",
    "WriteScatter(\n",
    "    data_below,\n",
    "    path = 'projects/berkson/scatterBelow.json',    \n",
    "    x_col = \"attractiveness\",\n",
    "    y_col = \"niceness\",\n",
    "    varname = \"scatterBelow\"\n",
    ")\n",
    "\n",
    "df.reset_index(inplace=True)\n",
    "WriteDfToJsonVar(df.copy(),\n",
    "                 'projects/berkson/triangle.json',\n",
    "                 \"comx\",\n",
    "                 \"triangle\")\n",
    "\n",
    "regline_sub.reset_index(inplace=True)\n",
    "WriteDfToJsonVar(regline_sub.copy(),\n",
    "                 'projects/berkson/regline_sub.json',\n",
    "                 \"comx\",\n",
    "                 \"regline_sub\")\n",
    "\n",
    "regline_full.reset_index(inplace=True)\n",
    "WriteDfToJsonVar(regline_full.copy(),\n",
    "                 'projects/berkson/regline_full.json',\n",
    "                 \"comx\",\n",
    "                 \"regline_full\")"
   ]
  },
  {
   "cell_type": "code",
   "execution_count": null,
   "metadata": {},
   "outputs": [],
   "source": []
  }
 ],
 "metadata": {
  "kernelspec": {
   "display_name": "Py (dev)",
   "language": "python",
   "name": "dev"
  },
  "language_info": {
   "codemirror_mode": {
    "name": "ipython",
    "version": 3
   },
   "file_extension": ".py",
   "mimetype": "text/x-python",
   "name": "python",
   "nbconvert_exporter": "python",
   "pygments_lexer": "ipython3",
   "version": "3.6.7"
  }
 },
 "nbformat": 4,
 "nbformat_minor": 4
}
